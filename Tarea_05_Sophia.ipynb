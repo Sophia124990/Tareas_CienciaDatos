{
  "nbformat": 4,
  "nbformat_minor": 0,
  "metadata": {
    "colab": {
      "provenance": [],
      "authorship_tag": "ABX9TyPHQpI+eMlLEmaTNhTz+foN",
      "include_colab_link": true
    },
    "kernelspec": {
      "name": "python3",
      "display_name": "Python 3"
    },
    "language_info": {
      "name": "python"
    }
  },
  "cells": [
    {
      "cell_type": "markdown",
      "metadata": {
        "id": "view-in-github",
        "colab_type": "text"
      },
      "source": [
        "<a href=\"https://colab.research.google.com/github/Sophia124990/Tareas_CienciaDatos/blob/main/Tarea_05_Sophia.ipynb\" target=\"_parent\"><img src=\"https://colab.research.google.com/assets/colab-badge.svg\" alt=\"Open In Colab\"/></a>"
      ]
    },
    {
      "cell_type": "code",
      "source": [
        "#autor: Karla Sophia López González\n",
        "#idautor: 225594-2\n",
        "#profesor: Lázaro Bustio Martínez"
      ],
      "metadata": {
        "id": "uyrf5Hpdvtm2"
      },
      "execution_count": null,
      "outputs": []
    },
    {
      "cell_type": "code",
      "execution_count": null,
      "metadata": {
        "colab": {
          "base_uri": "https://localhost:8080/"
        },
        "id": "P1HaLQQagM66",
        "outputId": "c702ce47-31fe-439e-c64c-5f7313a1d7ec"
      },
      "outputs": [
        {
          "output_type": "stream",
          "name": "stdout",
          "text": [
            "[[1.5 2.  1.8 2.1 1.9]\n",
            " [1.6 2.1 1.9 2.2 2. ]\n",
            " [1.4 1.9 1.7 2.  1.8]\n",
            " [1.7 2.3 2.  2.4 2.1]\n",
            " [1.5 2.2 1.8 2.3 1.9]]\n"
          ]
        }
      ],
      "source": [
        "import numpy as np\n",
        "\n",
        "# Cargamos los datos desde el archivo CSV, ignorando la primera fila y columna\n",
        "#que contienen el dia y el número de punto del parque\n",
        "datos_olas = np.genfromtxt(\"datos_olas.csv\", delimiter=\",\", skip_header=1, usecols=range(1, 6))\n",
        "\n",
        "# Imprimimos los datos cargados\n",
        "print(datos_olas)\n"
      ]
    },
    {
      "cell_type": "code",
      "source": [
        "#Calculamos la altura promedio de las olas en cada punto del parque acuático durante todos los días\n",
        "promedios = np.mean(datos_olas, axis=0)\n",
        "\n",
        "# Imprimimos los resultados\n",
        "for i, promedio in enumerate(promedios, start=1):\n",
        "    print(f'Promedio de altura en el Punto {i}: {promedio:.2f}')"
      ],
      "metadata": {
        "colab": {
          "base_uri": "https://localhost:8080/"
        },
        "id": "8sB8gfw4rTaL",
        "outputId": "a19c0dac-185d-401f-e10b-933690b6b87b"
      },
      "execution_count": null,
      "outputs": [
        {
          "output_type": "stream",
          "name": "stdout",
          "text": [
            "Promedio de altura en el Punto 1: 1.54\n",
            "Promedio de altura en el Punto 2: 2.10\n",
            "Promedio de altura en el Punto 3: 1.84\n",
            "Promedio de altura en el Punto 4: 2.20\n",
            "Promedio de altura en el Punto 5: 1.94\n"
          ]
        }
      ]
    },
    {
      "cell_type": "code",
      "source": [
        "#Calculamos la altura máxima de las olas en cada punto del parque acuático durante todos los días\n",
        "maximos = np.max(datos_olas, axis=0)\n",
        "\n",
        "# Imprimimos los resultados\n",
        "for i, maximo in enumerate(maximos, start=1):\n",
        "    print(f'Altura máxima en el Punto {i}: {maximo:.2f}')\n"
      ],
      "metadata": {
        "colab": {
          "base_uri": "https://localhost:8080/"
        },
        "id": "53_HL-llr--C",
        "outputId": "662ab8d9-a738-4e2b-b953-e31ac07d23c0"
      },
      "execution_count": null,
      "outputs": [
        {
          "output_type": "stream",
          "name": "stdout",
          "text": [
            "Altura máxima en el Punto 1: 1.70\n",
            "Altura máxima en el Punto 2: 2.30\n",
            "Altura máxima en el Punto 3: 2.00\n",
            "Altura máxima en el Punto 4: 2.40\n",
            "Altura máxima en el Punto 5: 2.10\n"
          ]
        }
      ]
    },
    {
      "cell_type": "code",
      "source": [
        "#Calculamos la desviación estándar de la altura de las olas en cada punto del parque acuático durante todos los días.\n",
        "desviaciones_estándar = np.std(datos_olas, axis=0)\n",
        "\n",
        "# Imprimimos los resultados\n",
        "for i, desviacion in enumerate(desviaciones_estándar, start=1):\n",
        "    print(f'Desviación estándar en el Punto {i}: {desviacion:.2f}')"
      ],
      "metadata": {
        "colab": {
          "base_uri": "https://localhost:8080/"
        },
        "id": "lp7L2Y01sVpF",
        "outputId": "901edefc-f8dc-4df7-f62d-ad5195c84a4f"
      },
      "execution_count": null,
      "outputs": [
        {
          "output_type": "stream",
          "name": "stdout",
          "text": [
            "Desviación estándar en el Punto 1: 0.10\n",
            "Desviación estándar en el Punto 2: 0.14\n",
            "Desviación estándar en el Punto 3: 0.10\n",
            "Desviación estándar en el Punto 4: 0.14\n",
            "Desviación estándar en el Punto 5: 0.10\n"
          ]
        }
      ]
    },
    {
      "cell_type": "code",
      "source": [
        "#Encontrar el punto del parque acuático con la altura promedio más alta\n",
        "#mostrar su indice (número de punto) y la altura promedio correspondiente.\n",
        "indice_punto_maximo = np.argmax(promedios)\n",
        "\n",
        "# Encuentra los índices de todas las ocurrencias de la altura máxima promedio\n",
        "altura_maxima = promedios[indice_punto_maximo]\n",
        "\n",
        "# Imprimimos el resultado\n",
        "print(f'El punto con la altura promedio más alta es el Punto {indice_punto_maximo + 1} con una altura promedio de {altura_maxima:.2f}')"
      ],
      "metadata": {
        "colab": {
          "base_uri": "https://localhost:8080/"
        },
        "id": "1lxRpEzPs7Yn",
        "outputId": "45fc4287-b3ff-4dea-a3d8-0714c6bd1033"
      },
      "execution_count": null,
      "outputs": [
        {
          "output_type": "stream",
          "name": "stdout",
          "text": [
            "El punto con la altura promedio más alta es el Punto 4 con una altura promedio de 2.20\n"
          ]
        }
      ]
    },
    {
      "cell_type": "code",
      "source": [
        "#Encontrar el día con la altura máxima de olas en todo el parque acuático\n",
        "#mostrar su índice (número de dia) y la altura máxima correspondiente.\n",
        "altura_maxima_total = np.max(datos_olas)\n",
        "\n",
        "# Encuentra los índices de todas las ocurrencias de la altura máxima\n",
        "indice_dia_maximo = np.where(datos_olas == altura_maxima_total)\n",
        "\n",
        "# Imprimimos el resultado\n",
        "print(f'El día con la altura máxima de olas en todo el parque acuático es el Día {indice_dia_maximo[0][0] + 1} con una altura máxima de {altura_maxima_total:.2f}')"
      ],
      "metadata": {
        "colab": {
          "base_uri": "https://localhost:8080/"
        },
        "id": "TOZXVFGts72r",
        "outputId": "7884a281-3a79-4d97-b743-19a2fad928f0"
      },
      "execution_count": null,
      "outputs": [
        {
          "output_type": "stream",
          "name": "stdout",
          "text": [
            "El día con la altura máxima de olas en todo el parque acuático es el Día 4 con una altura máxima de 2.40\n"
          ]
        }
      ]
    },
    {
      "cell_type": "code",
      "source": [
        "# Crea un array con los resultados\n",
        "resultados = np.array([promedios, maximos, desviaciones_estándar])\n",
        "\n",
        "# Guarda los resultados en un archivo de texto\n",
        "np.savetxt('resultados_olas.txt', resultados, delimiter=',', fmt='%.2f', header='Promedios, Maximos, Desviaciones')"
      ],
      "metadata": {
        "id": "jjmCrZc0uVnO"
      },
      "execution_count": null,
      "outputs": []
    }
  ]
}