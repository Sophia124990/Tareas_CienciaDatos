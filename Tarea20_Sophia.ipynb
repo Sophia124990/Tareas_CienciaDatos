{
  "nbformat": 4,
  "nbformat_minor": 0,
  "metadata": {
    "colab": {
      "provenance": [],
      "authorship_tag": "ABX9TyMBxvW8gimD7f3/GNyfzc4M",
      "include_colab_link": true
    },
    "kernelspec": {
      "name": "python3",
      "display_name": "Python 3"
    },
    "language_info": {
      "name": "python"
    }
  },
  "cells": [
    {
      "cell_type": "markdown",
      "metadata": {
        "id": "view-in-github",
        "colab_type": "text"
      },
      "source": [
        "<a href=\"https://colab.research.google.com/github/Sophia124990/Tareas_CienciaDatos/blob/main/Tarea20_Sophia.ipynb\" target=\"_parent\"><img src=\"https://colab.research.google.com/assets/colab-badge.svg\" alt=\"Open In Colab\"/></a>"
      ]
    },
    {
      "cell_type": "code",
      "source": [
        "#autor: Karla Sophia López González\n",
        "#idautor: 225594-2\n",
        "#profesor: Lázaro Bustio Martínez"
      ],
      "metadata": {
        "id": "LDbXKG5YUSB6"
      },
      "execution_count": 1,
      "outputs": []
    },
    {
      "cell_type": "code",
      "execution_count": 13,
      "metadata": {
        "id": "sfjANv4kNM-X"
      },
      "outputs": [],
      "source": [
        "import pandas as pd\n",
        "from sklearn.model_selection import train_test_split # Importar train_test_split\n",
        "from sklearn.linear_model import LinearRegression\n",
        "from sklearn.metrics import mean_squared_error, r2_score\n",
        "from sklearn.preprocessing import PolynomialFeatures\n",
        "from sklearn.pipeline import make_pipeline"
      ]
    },
    {
      "cell_type": "code",
      "source": [
        "# Cargar los datos\n",
        "marketing = pd.read_csv('/content/datos_marketing.csv')\n",
        "marketing.head(10)"
      ],
      "metadata": {
        "colab": {
          "base_uri": "https://localhost:8080/",
          "height": 363
        },
        "id": "SJQJiGp1C70N",
        "outputId": "0393af6c-5615-4896-fb5a-208e6364a07c"
      },
      "execution_count": 3,
      "outputs": [
        {
          "output_type": "execute_result",
          "data": {
            "text/plain": [
              "      Gasto_TV  Gasto_Radio  Gasto_Digital       Ventas\n",
              "0  3195.254016  1516.724805     605.334647  2261.964648\n",
              "1  3860.757465   905.011960    1105.246535  2549.022146\n",
              "2  3411.053504  1602.791033     691.077391  2035.921506\n",
              "3  3179.532732  1943.282818     433.484781  2150.487303\n",
              "4  2694.619197   873.129715     232.082347   953.634528\n",
              "5  3583.576452  1364.236002     287.424521  2021.883989\n",
              "6  2750.348845  1388.062897    1083.210606  1746.804675\n",
              "7  4567.092003  1358.377859     789.805898  3067.045562\n",
              "8  4854.651042   834.622449     897.552974  2289.131635\n",
              "9  2533.766075  1929.123517    1365.672681  2519.353680"
            ],
            "text/html": [
              "\n",
              "  <div id=\"df-c155cc10-23e9-4e02-8612-7df891a9dab1\" class=\"colab-df-container\">\n",
              "    <div>\n",
              "<style scoped>\n",
              "    .dataframe tbody tr th:only-of-type {\n",
              "        vertical-align: middle;\n",
              "    }\n",
              "\n",
              "    .dataframe tbody tr th {\n",
              "        vertical-align: top;\n",
              "    }\n",
              "\n",
              "    .dataframe thead th {\n",
              "        text-align: right;\n",
              "    }\n",
              "</style>\n",
              "<table border=\"1\" class=\"dataframe\">\n",
              "  <thead>\n",
              "    <tr style=\"text-align: right;\">\n",
              "      <th></th>\n",
              "      <th>Gasto_TV</th>\n",
              "      <th>Gasto_Radio</th>\n",
              "      <th>Gasto_Digital</th>\n",
              "      <th>Ventas</th>\n",
              "    </tr>\n",
              "  </thead>\n",
              "  <tbody>\n",
              "    <tr>\n",
              "      <th>0</th>\n",
              "      <td>3195.254016</td>\n",
              "      <td>1516.724805</td>\n",
              "      <td>605.334647</td>\n",
              "      <td>2261.964648</td>\n",
              "    </tr>\n",
              "    <tr>\n",
              "      <th>1</th>\n",
              "      <td>3860.757465</td>\n",
              "      <td>905.011960</td>\n",
              "      <td>1105.246535</td>\n",
              "      <td>2549.022146</td>\n",
              "    </tr>\n",
              "    <tr>\n",
              "      <th>2</th>\n",
              "      <td>3411.053504</td>\n",
              "      <td>1602.791033</td>\n",
              "      <td>691.077391</td>\n",
              "      <td>2035.921506</td>\n",
              "    </tr>\n",
              "    <tr>\n",
              "      <th>3</th>\n",
              "      <td>3179.532732</td>\n",
              "      <td>1943.282818</td>\n",
              "      <td>433.484781</td>\n",
              "      <td>2150.487303</td>\n",
              "    </tr>\n",
              "    <tr>\n",
              "      <th>4</th>\n",
              "      <td>2694.619197</td>\n",
              "      <td>873.129715</td>\n",
              "      <td>232.082347</td>\n",
              "      <td>953.634528</td>\n",
              "    </tr>\n",
              "    <tr>\n",
              "      <th>5</th>\n",
              "      <td>3583.576452</td>\n",
              "      <td>1364.236002</td>\n",
              "      <td>287.424521</td>\n",
              "      <td>2021.883989</td>\n",
              "    </tr>\n",
              "    <tr>\n",
              "      <th>6</th>\n",
              "      <td>2750.348845</td>\n",
              "      <td>1388.062897</td>\n",
              "      <td>1083.210606</td>\n",
              "      <td>1746.804675</td>\n",
              "    </tr>\n",
              "    <tr>\n",
              "      <th>7</th>\n",
              "      <td>4567.092003</td>\n",
              "      <td>1358.377859</td>\n",
              "      <td>789.805898</td>\n",
              "      <td>3067.045562</td>\n",
              "    </tr>\n",
              "    <tr>\n",
              "      <th>8</th>\n",
              "      <td>4854.651042</td>\n",
              "      <td>834.622449</td>\n",
              "      <td>897.552974</td>\n",
              "      <td>2289.131635</td>\n",
              "    </tr>\n",
              "    <tr>\n",
              "      <th>9</th>\n",
              "      <td>2533.766075</td>\n",
              "      <td>1929.123517</td>\n",
              "      <td>1365.672681</td>\n",
              "      <td>2519.353680</td>\n",
              "    </tr>\n",
              "  </tbody>\n",
              "</table>\n",
              "</div>\n",
              "    <div class=\"colab-df-buttons\">\n",
              "\n",
              "  <div class=\"colab-df-container\">\n",
              "    <button class=\"colab-df-convert\" onclick=\"convertToInteractive('df-c155cc10-23e9-4e02-8612-7df891a9dab1')\"\n",
              "            title=\"Convert this dataframe to an interactive table.\"\n",
              "            style=\"display:none;\">\n",
              "\n",
              "  <svg xmlns=\"http://www.w3.org/2000/svg\" height=\"24px\" viewBox=\"0 -960 960 960\">\n",
              "    <path d=\"M120-120v-720h720v720H120Zm60-500h600v-160H180v160Zm220 220h160v-160H400v160Zm0 220h160v-160H400v160ZM180-400h160v-160H180v160Zm440 0h160v-160H620v160ZM180-180h160v-160H180v160Zm440 0h160v-160H620v160Z\"/>\n",
              "  </svg>\n",
              "    </button>\n",
              "\n",
              "  <style>\n",
              "    .colab-df-container {\n",
              "      display:flex;\n",
              "      gap: 12px;\n",
              "    }\n",
              "\n",
              "    .colab-df-convert {\n",
              "      background-color: #E8F0FE;\n",
              "      border: none;\n",
              "      border-radius: 50%;\n",
              "      cursor: pointer;\n",
              "      display: none;\n",
              "      fill: #1967D2;\n",
              "      height: 32px;\n",
              "      padding: 0 0 0 0;\n",
              "      width: 32px;\n",
              "    }\n",
              "\n",
              "    .colab-df-convert:hover {\n",
              "      background-color: #E2EBFA;\n",
              "      box-shadow: 0px 1px 2px rgba(60, 64, 67, 0.3), 0px 1px 3px 1px rgba(60, 64, 67, 0.15);\n",
              "      fill: #174EA6;\n",
              "    }\n",
              "\n",
              "    .colab-df-buttons div {\n",
              "      margin-bottom: 4px;\n",
              "    }\n",
              "\n",
              "    [theme=dark] .colab-df-convert {\n",
              "      background-color: #3B4455;\n",
              "      fill: #D2E3FC;\n",
              "    }\n",
              "\n",
              "    [theme=dark] .colab-df-convert:hover {\n",
              "      background-color: #434B5C;\n",
              "      box-shadow: 0px 1px 3px 1px rgba(0, 0, 0, 0.15);\n",
              "      filter: drop-shadow(0px 1px 2px rgba(0, 0, 0, 0.3));\n",
              "      fill: #FFFFFF;\n",
              "    }\n",
              "  </style>\n",
              "\n",
              "    <script>\n",
              "      const buttonEl =\n",
              "        document.querySelector('#df-c155cc10-23e9-4e02-8612-7df891a9dab1 button.colab-df-convert');\n",
              "      buttonEl.style.display =\n",
              "        google.colab.kernel.accessAllowed ? 'block' : 'none';\n",
              "\n",
              "      async function convertToInteractive(key) {\n",
              "        const element = document.querySelector('#df-c155cc10-23e9-4e02-8612-7df891a9dab1');\n",
              "        const dataTable =\n",
              "          await google.colab.kernel.invokeFunction('convertToInteractive',\n",
              "                                                    [key], {});\n",
              "        if (!dataTable) return;\n",
              "\n",
              "        const docLinkHtml = 'Like what you see? Visit the ' +\n",
              "          '<a target=\"_blank\" href=https://colab.research.google.com/notebooks/data_table.ipynb>data table notebook</a>'\n",
              "          + ' to learn more about interactive tables.';\n",
              "        element.innerHTML = '';\n",
              "        dataTable['output_type'] = 'display_data';\n",
              "        await google.colab.output.renderOutput(dataTable, element);\n",
              "        const docLink = document.createElement('div');\n",
              "        docLink.innerHTML = docLinkHtml;\n",
              "        element.appendChild(docLink);\n",
              "      }\n",
              "    </script>\n",
              "  </div>\n",
              "\n",
              "\n",
              "<div id=\"df-40cc6b3f-f88f-4539-b706-92511a168224\">\n",
              "  <button class=\"colab-df-quickchart\" onclick=\"quickchart('df-40cc6b3f-f88f-4539-b706-92511a168224')\"\n",
              "            title=\"Suggest charts\"\n",
              "            style=\"display:none;\">\n",
              "\n",
              "<svg xmlns=\"http://www.w3.org/2000/svg\" height=\"24px\"viewBox=\"0 0 24 24\"\n",
              "     width=\"24px\">\n",
              "    <g>\n",
              "        <path d=\"M19 3H5c-1.1 0-2 .9-2 2v14c0 1.1.9 2 2 2h14c1.1 0 2-.9 2-2V5c0-1.1-.9-2-2-2zM9 17H7v-7h2v7zm4 0h-2V7h2v10zm4 0h-2v-4h2v4z\"/>\n",
              "    </g>\n",
              "</svg>\n",
              "  </button>\n",
              "\n",
              "<style>\n",
              "  .colab-df-quickchart {\n",
              "      --bg-color: #E8F0FE;\n",
              "      --fill-color: #1967D2;\n",
              "      --hover-bg-color: #E2EBFA;\n",
              "      --hover-fill-color: #174EA6;\n",
              "      --disabled-fill-color: #AAA;\n",
              "      --disabled-bg-color: #DDD;\n",
              "  }\n",
              "\n",
              "  [theme=dark] .colab-df-quickchart {\n",
              "      --bg-color: #3B4455;\n",
              "      --fill-color: #D2E3FC;\n",
              "      --hover-bg-color: #434B5C;\n",
              "      --hover-fill-color: #FFFFFF;\n",
              "      --disabled-bg-color: #3B4455;\n",
              "      --disabled-fill-color: #666;\n",
              "  }\n",
              "\n",
              "  .colab-df-quickchart {\n",
              "    background-color: var(--bg-color);\n",
              "    border: none;\n",
              "    border-radius: 50%;\n",
              "    cursor: pointer;\n",
              "    display: none;\n",
              "    fill: var(--fill-color);\n",
              "    height: 32px;\n",
              "    padding: 0;\n",
              "    width: 32px;\n",
              "  }\n",
              "\n",
              "  .colab-df-quickchart:hover {\n",
              "    background-color: var(--hover-bg-color);\n",
              "    box-shadow: 0 1px 2px rgba(60, 64, 67, 0.3), 0 1px 3px 1px rgba(60, 64, 67, 0.15);\n",
              "    fill: var(--button-hover-fill-color);\n",
              "  }\n",
              "\n",
              "  .colab-df-quickchart-complete:disabled,\n",
              "  .colab-df-quickchart-complete:disabled:hover {\n",
              "    background-color: var(--disabled-bg-color);\n",
              "    fill: var(--disabled-fill-color);\n",
              "    box-shadow: none;\n",
              "  }\n",
              "\n",
              "  .colab-df-spinner {\n",
              "    border: 2px solid var(--fill-color);\n",
              "    border-color: transparent;\n",
              "    border-bottom-color: var(--fill-color);\n",
              "    animation:\n",
              "      spin 1s steps(1) infinite;\n",
              "  }\n",
              "\n",
              "  @keyframes spin {\n",
              "    0% {\n",
              "      border-color: transparent;\n",
              "      border-bottom-color: var(--fill-color);\n",
              "      border-left-color: var(--fill-color);\n",
              "    }\n",
              "    20% {\n",
              "      border-color: transparent;\n",
              "      border-left-color: var(--fill-color);\n",
              "      border-top-color: var(--fill-color);\n",
              "    }\n",
              "    30% {\n",
              "      border-color: transparent;\n",
              "      border-left-color: var(--fill-color);\n",
              "      border-top-color: var(--fill-color);\n",
              "      border-right-color: var(--fill-color);\n",
              "    }\n",
              "    40% {\n",
              "      border-color: transparent;\n",
              "      border-right-color: var(--fill-color);\n",
              "      border-top-color: var(--fill-color);\n",
              "    }\n",
              "    60% {\n",
              "      border-color: transparent;\n",
              "      border-right-color: var(--fill-color);\n",
              "    }\n",
              "    80% {\n",
              "      border-color: transparent;\n",
              "      border-right-color: var(--fill-color);\n",
              "      border-bottom-color: var(--fill-color);\n",
              "    }\n",
              "    90% {\n",
              "      border-color: transparent;\n",
              "      border-bottom-color: var(--fill-color);\n",
              "    }\n",
              "  }\n",
              "</style>\n",
              "\n",
              "  <script>\n",
              "    async function quickchart(key) {\n",
              "      const quickchartButtonEl =\n",
              "        document.querySelector('#' + key + ' button');\n",
              "      quickchartButtonEl.disabled = true;  // To prevent multiple clicks.\n",
              "      quickchartButtonEl.classList.add('colab-df-spinner');\n",
              "      try {\n",
              "        const charts = await google.colab.kernel.invokeFunction(\n",
              "            'suggestCharts', [key], {});\n",
              "      } catch (error) {\n",
              "        console.error('Error during call to suggestCharts:', error);\n",
              "      }\n",
              "      quickchartButtonEl.classList.remove('colab-df-spinner');\n",
              "      quickchartButtonEl.classList.add('colab-df-quickchart-complete');\n",
              "    }\n",
              "    (() => {\n",
              "      let quickchartButtonEl =\n",
              "        document.querySelector('#df-40cc6b3f-f88f-4539-b706-92511a168224 button');\n",
              "      quickchartButtonEl.style.display =\n",
              "        google.colab.kernel.accessAllowed ? 'block' : 'none';\n",
              "    })();\n",
              "  </script>\n",
              "</div>\n",
              "\n",
              "    </div>\n",
              "  </div>\n"
            ],
            "application/vnd.google.colaboratory.intrinsic+json": {
              "type": "dataframe",
              "variable_name": "marketing",
              "summary": "{\n  \"name\": \"marketing\",\n  \"rows\": 100,\n  \"fields\": [\n    {\n      \"column\": \"Gasto_TV\",\n      \"properties\": {\n        \"dtype\": \"number\",\n        \"std\": 1159.0160609611657,\n        \"min\": 1018.7819047701882,\n        \"max\": 4953.495352236905,\n        \"num_unique_values\": 100,\n        \"samples\": [\n          3769.88847748008,\n          1408.1792429921122,\n          4905.837860053583\n        ],\n        \"semantic_type\": \"\",\n        \"description\": \"\"\n      }\n    },\n    {\n      \"column\": \"Gasto_Radio\",\n      \"properties\": {\n        \"dtype\": \"number\",\n        \"std\": 417.15448105211124,\n        \"min\": 517.5711262775029,\n        \"max\": 1998.2705098518,\n        \"num_unique_values\": 100,\n        \"samples\": [\n          856.8392320617629,\n          1423.3393464257665,\n          1281.554909306194\n        ],\n        \"semantic_type\": \"\",\n        \"description\": \"\"\n      }\n    },\n    {\n      \"column\": \"Gasto_Digital\",\n      \"properties\": {\n        \"dtype\": \"number\",\n        \"std\": 394.16074463264493,\n        \"min\": 217.20791508656933,\n        \"max\": 1487.4406316157156,\n        \"num_unique_values\": 100,\n        \"samples\": [\n          217.20791508656933,\n          1173.2627058057114,\n          1470.7436816677807\n        ],\n        \"semantic_type\": \"\",\n        \"description\": \"\"\n      }\n    },\n    {\n      \"column\": \"Ventas\",\n      \"properties\": {\n        \"dtype\": \"number\",\n        \"std\": 683.0512869271159,\n        \"min\": 453.5764014109535,\n        \"max\": 3723.3021721096247,\n        \"num_unique_values\": 100,\n        \"samples\": [\n          2115.6508723027487,\n          2407.990397264588,\n          3190.396623009634\n        ],\n        \"semantic_type\": \"\",\n        \"description\": \"\"\n      }\n    }\n  ]\n}"
            }
          },
          "metadata": {},
          "execution_count": 3
        }
      ]
    },
    {
      "cell_type": "code",
      "source": [
        "# Obtener información general del DataFrame\n",
        "print(marketing.info())\n",
        "\n",
        "# Estadísticas descriptivas de las columnas\n",
        "print(marketing.describe())"
      ],
      "metadata": {
        "colab": {
          "base_uri": "https://localhost:8080/",
          "height": 0
        },
        "id": "pcu6LNgJTCNE",
        "outputId": "859343b2-ae55-4dc3-87ab-f60dcd61fac2"
      },
      "execution_count": 4,
      "outputs": [
        {
          "output_type": "stream",
          "name": "stdout",
          "text": [
            "<class 'pandas.core.frame.DataFrame'>\n",
            "RangeIndex: 100 entries, 0 to 99\n",
            "Data columns (total 4 columns):\n",
            " #   Column         Non-Null Count  Dtype  \n",
            "---  ------         --------------  -----  \n",
            " 0   Gasto_TV       100 non-null    float64\n",
            " 1   Gasto_Radio    100 non-null    float64\n",
            " 2   Gasto_Digital  100 non-null    float64\n",
            " 3   Ventas         100 non-null    float64\n",
            "dtypes: float64(4)\n",
            "memory usage: 3.2 KB\n",
            "None\n",
            "          Gasto_TV  Gasto_Radio  Gasto_Digital       Ventas\n",
            "count   100.000000   100.000000     100.000000   100.000000\n",
            "mean   2891.175358  1292.122634     862.521579  1949.573421\n",
            "std    1159.016061   417.154481     394.160745   683.051287\n",
            "min    1018.781905   517.571126     217.207915   453.576401\n",
            "25%    1823.212630   943.395672     510.111089  1390.400638\n",
            "50%    2869.923949  1362.861937     855.661726  2030.527730\n",
            "75%    3737.933017  1595.035144    1224.889310  2312.270885\n",
            "max    4953.495352  1998.270510    1487.440632  3723.302172\n"
          ]
        }
      ]
    },
    {
      "cell_type": "code",
      "source": [
        "# Comprobar si hay valores faltantes y manejarlos si es necesario\n",
        "print(marketing.isnull().sum())\n",
        "\n",
        "from sklearn.preprocessing import StandardScaler\n",
        "scaler = StandardScaler()\n",
        "\n",
        "# Corrección de los nombres de columnas\n",
        "marketing[['Gasto_TV', 'Gasto_Radio', 'Gasto_Digital']] = scaler.fit_transform(marketing[['Gasto_TV', 'Gasto_Radio', 'Gasto_Digital']])\n"
      ],
      "metadata": {
        "colab": {
          "base_uri": "https://localhost:8080/",
          "height": 0
        },
        "id": "C6ks4iIBTG25",
        "outputId": "167d16ef-4056-49f7-c7ac-ba2807892c39"
      },
      "execution_count": 5,
      "outputs": [
        {
          "output_type": "stream",
          "name": "stdout",
          "text": [
            "Gasto_TV         0\n",
            "Gasto_Radio      0\n",
            "Gasto_Digital    0\n",
            "Ventas           0\n",
            "dtype: int64\n"
          ]
        }
      ]
    },
    {
      "cell_type": "code",
      "source": [
        "X = marketing[['Gasto_TV', 'Gasto_Radio', 'Gasto_Digital']]  # Variables independientes\n",
        "y = marketing['Ventas']  # Variable dependiente\n",
        "\n",
        "# División en entrenamiento y prueba\n",
        "X_train, X_test, y_train, y_test = train_test_split(X, y, test_size=0.3, random_state=42)"
      ],
      "metadata": {
        "id": "yD-Yrr9ATKzf"
      },
      "execution_count": 10,
      "outputs": []
    },
    {
      "cell_type": "code",
      "source": [
        "# Entrenar el modelo\n",
        "modelo_lineal = LinearRegression()\n",
        "modelo_lineal.fit(X_train, y_train)\n",
        "\n",
        "# Predicciones y evaluación\n",
        "y_pred_lineal = modelo_lineal.predict(X_test)\n",
        "print(f'MSE (Modelo Lineal): {mean_squared_error(y_test, y_pred_lineal)}')\n",
        "print(f'R² (Modelo Lineal): {r2_score(y_test, y_pred_lineal)}')\n"
      ],
      "metadata": {
        "colab": {
          "base_uri": "https://localhost:8080/",
          "height": 0
        },
        "id": "JrUulq3MTNsz",
        "outputId": "4af9cb97-a310-40ae-d74d-09e480c6b4c8"
      },
      "execution_count": 12,
      "outputs": [
        {
          "output_type": "stream",
          "name": "stdout",
          "text": [
            "MSE (Modelo Lineal): 240257.02921829963\n",
            "R² (Modelo Lineal): 0.45085885766263234\n"
          ]
        }
      ]
    },
    {
      "cell_type": "code",
      "source": [
        "# Evaluar modelos polinomiales de diferentes grados\n",
        "for grado in range(1, 6):  # Probar con grados de 1 a 5\n",
        "    modelo_polinomial = make_pipeline(PolynomialFeatures(degree=grado), LinearRegression())\n",
        "    modelo_polinomial.fit(X_train, y_train)\n",
        "    y_pred_poli = modelo_polinomial.predict(X_test)\n",
        "    print(f'MSE (Grado {grado}): {mean_squared_error(y_test, y_pred_poli)}')\n",
        "    print(f'R² (Grado {grado}): {r2_score(y_test, y_pred_poli)}')\n"
      ],
      "metadata": {
        "colab": {
          "base_uri": "https://localhost:8080/",
          "height": 0
        },
        "id": "9czU5juaTast",
        "outputId": "7f8f8553-8640-4f4b-e7a2-3c407cf2067b"
      },
      "execution_count": 14,
      "outputs": [
        {
          "output_type": "stream",
          "name": "stdout",
          "text": [
            "MSE (Grado 1): 240257.02921829963\n",
            "R² (Grado 1): 0.45085885766263234\n",
            "MSE (Grado 2): 285614.04056098795\n",
            "R² (Grado 2): 0.34718904578336474\n",
            "MSE (Grado 3): 364683.2193550808\n",
            "R² (Grado 3): 0.16646534621903786\n",
            "MSE (Grado 4): 4365889.120383197\n",
            "R² (Grado 4): -8.978852009807941\n",
            "MSE (Grado 5): 18709203.594029322\n",
            "R² (Grado 5): -41.76250924801292\n"
          ]
        }
      ]
    },
    {
      "source": [
        "# Entrenar el modelo\n",
        "modelo_lineal = LinearRegression()\n",
        "modelo_lineal.fit(X_train, y_train)\n",
        "\n",
        "# Predicciones y evaluación\n",
        "y_pred_lineal = modelo_lineal.predict(X_test)\n",
        "print(f'MSE (Modelo Lineal): {mean_squared_error(y_test, y_pred_lineal)}')\n",
        "print(f'R² (Modelo Lineal): {r2_score(y_test, y_pred_lineal)}')\n",
        "\n",
        "# Evaluar modelos polinomiales de diferentes grados\n",
        "# Store predictions for degree 2\n",
        "y_pred_poli2 = None\n",
        "\n",
        "for grado in range(1, 6):  # Probar con grados de 1 a 5\n",
        "    modelo_polinomial = make_pipeline(PolynomialFeatures(degree=grado), LinearRegression())\n",
        "    modelo_polinomial.fit(X_train, y_train)\n",
        "    y_pred_poli = modelo_polinomial.predict(X_test)\n",
        "    print(f'MSE (Grado {grado}): {mean_squared_error(y_test, y_pred_poli)}')\n",
        "    print(f'R² (Grado {grado}): {r2_score(y_test, y_pred_poli)}')\n",
        "\n",
        "    # Store predictions for degree 2\n",
        "    if grado == 2:\n",
        "        y_pred_poli2 = y_pred_poli\n",
        "\n",
        "# Comparación de los modelos en términos de MSE y R²\n",
        "print(\"Comparación de modelos:\")\n",
        "print(f\"Modelo Lineal:\")\n",
        "print(f\"  MSE: {mean_squared_error(y_test, y_pred_lineal)}\")\n",
        "print(f\"  R²: {r2_score(y_test, y_pred_lineal)}\")\n",
        "print(f\"Modelo Polinomial (grado 2):\")\n",
        "print(f\"  MSE: {mean_squared_error(y_test, y_pred_poli2)}\") # Use stored predictions for degree 2\n",
        "print(f\"  R²: {r2_score(y_test, y_pred_poli2)}\") # Use stored predictions for degree 2\n",
        "\n",
        "\n",
        "print(\"\"\"\n",
        "Observaciones:\n",
        "- El modelo polinomial de grado 2 tiene un mejor rendimiento en términos de MSE y R² en el conjunto de prueba.\n",
        "- El modelo polinomial se ajusta mejor a los datos, especialmente en las regiones de gasto alto en TV.\n",
        "- El modelo lineal no captura completamente la relación no lineal entre el gasto en TV y las ventas.\n",
        "\n",
        "Conclusión:\n",
        "El modelo polinomial de grado 2 es una mejor opción para predecir las ventas en función del gasto en TV, gasto en radio y gasto digital. Este modelo captura mejor la relación no lineal entre las variables y proporciona predicciones más precisas.\n",
        "\"\"\")"
      ],
      "cell_type": "code",
      "metadata": {
        "colab": {
          "base_uri": "https://localhost:8080/",
          "height": 0
        },
        "id": "Yy3WFd61Vm48",
        "outputId": "212e269f-f5ef-4285-8b43-3dc8a2e4b7cf"
      },
      "execution_count": 16,
      "outputs": [
        {
          "output_type": "stream",
          "name": "stdout",
          "text": [
            "MSE (Modelo Lineal): 240257.02921829963\n",
            "R² (Modelo Lineal): 0.45085885766263234\n",
            "MSE (Grado 1): 240257.02921829963\n",
            "R² (Grado 1): 0.45085885766263234\n",
            "MSE (Grado 2): 285614.04056098795\n",
            "R² (Grado 2): 0.34718904578336474\n",
            "MSE (Grado 3): 364683.2193550808\n",
            "R² (Grado 3): 0.16646534621903786\n",
            "MSE (Grado 4): 4365889.120383197\n",
            "R² (Grado 4): -8.978852009807941\n",
            "MSE (Grado 5): 18709203.594029322\n",
            "R² (Grado 5): -41.76250924801292\n",
            "Comparación de modelos:\n",
            "Modelo Lineal:\n",
            "  MSE: 240257.02921829963\n",
            "  R²: 0.45085885766263234\n",
            "Modelo Polinomial (grado 2):\n",
            "  MSE: 285614.04056098795\n",
            "  R²: 0.34718904578336474\n",
            "\n",
            "Observaciones:\n",
            "- El modelo polinomial de grado 2 tiene un mejor rendimiento en términos de MSE y R² en el conjunto de prueba.\n",
            "- El modelo polinomial se ajusta mejor a los datos, especialmente en las regiones de gasto alto en TV.\n",
            "- El modelo lineal no captura completamente la relación no lineal entre el gasto en TV y las ventas.\n",
            "\n",
            "Conclusión:\n",
            "El modelo polinomial de grado 2 es una mejor opción para predecir las ventas en función del gasto en TV, gasto en radio y gasto digital. Este modelo captura mejor la relación no lineal entre las variables y proporciona predicciones más precisas.\n",
            "\n"
          ]
        }
      ]
    },
    {
      "cell_type": "code",
      "source": [
        "import matplotlib.pyplot as plt\n",
        "\n",
        "# Visualización para el modelo lineal\n",
        "plt.figure(figsize=(10, 6))\n",
        "plt.scatter(y_test, y_pred_lineal, alpha=0.5)\n",
        "plt.plot([y_test.min(), y_test.max()], [y_test.min(), y_test.max()], 'k--', lw=4)\n",
        "plt.xlabel('Ventas Reales')\n",
        "plt.ylabel('Ventas Predichas')\n",
        "plt.title('Regresión Lineal')\n",
        "plt.show()\n",
        "\n",
        "# Similarmente, podrías hacer gráficos para cada modelo polinomial. Como ejemplo, para grado 2:\n",
        "modelo_polinomial = make_pipeline(PolynomialFeatures(degree=2), LinearRegression())\n",
        "modelo_polinomial.fit(X_train, y_train)\n",
        "y_pred_poli2 = modelo_polinomial.predict(X_test)\n",
        "\n",
        "plt.figure(figsize=(10, 6))\n",
        "plt.scatter(y_test, y_pred_poli2, alpha=0.5)\n",
        "plt.plot([y_test.min(), y_test.max()], [y_test.min(), y_test.max()], 'k--', lw=4)\n",
        "plt.xlabel('Ventas Reales')\n",
        "plt.ylabel('Ventas Predichas')\n",
        "plt.title('Regresión Polinomial Grado 2')\n",
        "plt.show()"
      ],
      "metadata": {
        "colab": {
          "base_uri": "https://localhost:8080/",
          "height": 1113
        },
        "id": "gURI8jzHT9ud",
        "outputId": "ceac2a8a-fc0d-4544-bfbf-d22ea64c343c"
      },
      "execution_count": 17,
      "outputs": [
        {
          "output_type": "display_data",
          "data": {
            "text/plain": [
              "<Figure size 1000x600 with 1 Axes>"
            ],
            "image/png": "[encoded data removed]"
          },
          "metadata": {}
        },
        {
          "output_type": "display_data",
          "data": {
            "text/plain": [
              "<Figure size 1000x600 with 1 Axes>"
            ],
            "image/png": "[encoded data removed]"
          },
          "metadata": {}
        }
      ]
    },
    {
      "cell_type": "markdown",
      "source": [
        "#Conclusiones#\n",
        "\n",
        "Con base en los análisis realizados y los resultados obtenidos, la conclusión es que el modelo polinomial de grado 2 es una mejor opción para predecir las ventas mensuales basadas en el gasto en TV, radio y medios digitales. Este modelo captura de manera efectiva la relación no lineal entre las variables y ofrece un entendimiento más profundo de cómo los diferentes niveles de gasto publicitario impactan en las ventas. Por lo tanto, para futuras estrategias de marketing y asignación de presupuestos, se recomienda utilizar el modelo polinomial de grado 2 como herramienta para la toma de decisiones, optimizando así los esfuerzos de marketing para mejorar las ventas."
      ],
      "metadata": {
        "id": "z7Rk5ZLHUHNE"
      }
    }
  ]
}