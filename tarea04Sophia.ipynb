{
  "nbformat": 4,
  "nbformat_minor": 0,
  "metadata": {
    "colab": {
      "provenance": [],
      "authorship_tag": "ABX9TyNHPixOwdCtpdKFsleOAaKR",
      "include_colab_link": true
    },
    "kernelspec": {
      "name": "python3",
      "display_name": "Python 3"
    },
    "language_info": {
      "name": "python"
    }
  },
  "cells": [
    {
      "cell_type": "markdown",
      "metadata": {
        "id": "view-in-github",
        "colab_type": "text"
      },
      "source": [
        "<a href=\"https://colab.research.google.com/github/Sophia124990/Tareas_CienciaDatos/blob/main/tarea04Sophia.ipynb\" target=\"_parent\"><img src=\"https://colab.research.google.com/assets/colab-badge.svg\" alt=\"Open In Colab\"/></a>"
      ]
    },
    {
      "cell_type": "code",
      "source": [
        "#autor: Karla Sophia López González\n",
        "#idautor: 225594-2\n",
        "#profesor: Lázaro Bustio Martínez"
      ],
      "metadata": {
        "id": "RMQQlt8A6Uld"
      },
      "execution_count": null,
      "outputs": []
    },
    {
      "cell_type": "code",
      "source": [
        "#creamos diccionario\n",
        "inventario = {}\n",
        "inventario['manzanas'] = 10\n",
        "inventario['peras'] = 5\n",
        "inventario['pan'] = 20\n",
        "inventario['huevo'] = 29\n",
        "inventario['pollo'] = 11\n",
        "inventario['jitomate'] = 8\n",
        "inventario['lechuga'] = 14\n",
        "inventario['jabon'] = 6\n",
        "inventario['papel'] = 2\n",
        "inventario['servilletas'] = 13\n",
        "inventario['arroz'] = 15"
      ],
      "metadata": {
        "id": "1Ya70rK9sLGu"
      },
      "execution_count": null,
      "outputs": []
    },
    {
      "cell_type": "code",
      "source": [
        "#funcion para agregar un producto o actualizar la cantidad de un producto ya existente\n",
        "def agregar_producto():\n",
        "#Pide al usuario el nombre y cantidad de un producto y lo agrega al inventario.\n",
        "  nombre_producto = input(\"Ingrese el nombre del producto: \")\n",
        "  cantidad = int(input(\"Ingrese la cantidad disponible: \"))\n",
        "\n",
        "  if nombre_producto in inventario:\n",
        "    inventario[nombre_producto] += cantidad\n",
        "  else:\n",
        "    inventario[nombre_producto] = cantidad\n",
        "\n",
        "  print(\"Producto agregado al inventario.\")\n",
        "\n",
        "agregar_producto()\n",
        "\n",
        "print(inventario)"
      ],
      "metadata": {
        "colab": {
          "base_uri": "https://localhost:8080/"
        },
        "id": "87eNJp3-syPQ",
        "outputId": "00387584-98df-49ff-b507-f043c8d2419b"
      },
      "execution_count": null,
      "outputs": [
        {
          "output_type": "stream",
          "name": "stdout",
          "text": [
            "Ingrese el nombre del producto: peras\n",
            "Ingrese la cantidad disponible: 4\n",
            "Producto agregado al inventario.\n",
            "{'manzanas': 20, 'peras': 12, 'pan': 20, 'huevo': 29, 'pollo': 11, 'jitomate': 8, 'lechuga': 14, 'jabon': 6, 'papel': 2, 'servilletas': 13, 'arroz': 15}\n"
          ]
        }
      ]
    },
    {
      "cell_type": "code",
      "source": [
        "#funcion para buscar un producto en el inventario, si existe muestra su cantidad disponible\n",
        "#en caso contrario muestra mensaje \"no se encontró en el inventario\"\n",
        "def buscar_producto():\n",
        "#Pide al usuario el nombre de un producto y busca si existe en el inventario.\n",
        "  nombre_producto = input(\"Ingrese el nombre del producto a buscar: \")\n",
        "\n",
        "  if nombre_producto in inventario:\n",
        "    cantidad = inventario[nombre_producto]\n",
        "    print(f\"El producto '{nombre_producto}' está disponible. Cantidad: {cantidad}\")\n",
        "  else:\n",
        "    print(f\"El producto '{nombre_producto}' no se encontró en el inventario.\")\n",
        "\n",
        "#Manda llamar a la funcion\n",
        "buscar_producto()"
      ],
      "metadata": {
        "colab": {
          "base_uri": "https://localhost:8080/"
        },
        "id": "P1d9kh5o1e8C",
        "outputId": "44990bfd-7d74-42f3-cb66-0135407d48d4"
      },
      "execution_count": null,
      "outputs": [
        {
          "output_type": "stream",
          "name": "stdout",
          "text": [
            "Ingrese el nombre del producto a buscar: peras\n",
            "El producto 'peras' está disponible. Cantidad: 12\n"
          ]
        }
      ]
    },
    {
      "cell_type": "code",
      "source": [
        "#esta funcion solicita un producto y actualiza la cantidad disponible del producto en el inventario\n",
        "def actualizar_cantidad():\n",
        "#Pide al usuario el nombre de un producto y la nueva cantidad, y actualiza el inventario.\n",
        "  nombre_producto = input(\"Ingrese el nombre del producto a actualizar: \")\n",
        "\n",
        "  if nombre_producto in inventario:\n",
        "    nueva_cantidad = int(input(\"Ingrese la nueva cantidad disponible: \"))\n",
        "    inventario[nombre_producto] = nueva_cantidad\n",
        "    print(f\"La cantidad del producto '{nombre_producto}' se ha actualizado a {nueva_cantidad}.\")\n",
        "  else:\n",
        "    print(f\"El producto '{nombre_producto}' no se encontró en el inventario.\")\n",
        "\n",
        "#Manda llamar a la función y la ejecuta\n",
        "actualizar_cantidad()"
      ],
      "metadata": {
        "colab": {
          "base_uri": "https://localhost:8080/"
        },
        "id": "RIxtsTjp171H",
        "outputId": "3cb46d7d-e649-41d2-9c45-410234ea38f6"
      },
      "execution_count": null,
      "outputs": [
        {
          "output_type": "stream",
          "name": "stdout",
          "text": [
            "Ingrese el nombre del producto a actualizar: peras\n",
            "Ingrese la nueva cantidad disponible: 5\n",
            "La cantidad del producto 'peras' se ha actualizado a 5.\n"
          ]
        }
      ]
    },
    {
      "cell_type": "code",
      "source": [
        "#esta funcion elimina un producto del inventario\n",
        "def eliminar_producto():\n",
        "#Pide al usuario el nombre de un producto y lo elimina del inventario si existe.\n",
        "  nombre_producto = input(\"Ingrese el nombre del producto a eliminar: \")\n",
        "\n",
        "  if nombre_producto in inventario:\n",
        "    del inventario[nombre_producto]\n",
        "    print(f\"El producto '{nombre_producto}' ha sido eliminado del inventario.\")\n",
        "  else:\n",
        "    print(f\"El producto '{nombre_producto}' no se encontró en el inventario.\")\n",
        "\n",
        "#ejecuta la funcion\n",
        "eliminar_producto()"
      ],
      "metadata": {
        "colab": {
          "base_uri": "https://localhost:8080/"
        },
        "id": "8uc7TA5_2Rph",
        "outputId": "3bbe6871-361b-4fea-d581-f12f960b8778"
      },
      "execution_count": null,
      "outputs": [
        {
          "output_type": "stream",
          "name": "stdout",
          "text": [
            "Ingrese el nombre del producto a eliminar: pasta\n",
            "El producto 'pasta' no se encontró en el inventario.\n"
          ]
        }
      ]
    }
  ]
}