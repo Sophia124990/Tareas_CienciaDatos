{
  "nbformat": 4,
  "nbformat_minor": 0,
  "metadata": {
    "colab": {
      "provenance": [],
      "authorship_tag": "ABX9TyMvD7KdJE6deLyw8nL9xTX4",
      "include_colab_link": true
    },
    "kernelspec": {
      "name": "python3",
      "display_name": "Python 3"
    },
    "language_info": {
      "name": "python"
    }
  },
  "cells": [
    {
      "cell_type": "markdown",
      "metadata": {
        "id": "view-in-github",
        "colab_type": "text"
      },
      "source": [
        "<a href=\"https://colab.research.google.com/github/Sophia124990/Tareas_CienciaDatos/blob/main/Tarea03_Sophia.ipynb\" target=\"_parent\"><img src=\"https://colab.research.google.com/assets/colab-badge.svg\" alt=\"Open In Colab\"/></a>"
      ]
    },
    {
      "cell_type": "code",
      "execution_count": null,
      "metadata": {
        "colab": {
          "base_uri": "https://localhost:8080/"
        },
        "id": "5n5x9J6NDA5l",
        "outputId": "6815788c-f060-48c5-dfd2-a66a3de63a1f"
      },
      "outputs": [
        {
          "output_type": "stream",
          "name": "stdout",
          "text": [
            "Cuantos numeros vas a ingresar: \n",
            "3\n",
            "Dame el numero 1 a promediar: 1\n",
            "Dame el numero 2 a promediar: 2\n",
            "Dame el numero 3 a promediar: 3\n",
            "El promedio de los 3 números es 2.0\n",
            "El menor número es: 1\n",
            "El mayor número es: 3\n"
          ]
        }
      ],
      "source": [
        "suma = 0\n",
        "mayor = 0\n",
        "menor = 0\n",
        "numeros = []\n",
        "num = input(\"Cuantos numeros vas a ingresar: \\n\")\n",
        "num = int(num)\n",
        "for x in range(0, num, 1):\n",
        "  n = input(\"Dame el numero \" + str(x + 1) + \" a promediar: \")\n",
        "  n = int(n)\n",
        "  numeros.append(n)\n",
        "  suma = suma + n\n",
        "promedio = suma / num\n",
        "menor = min(numeros)\n",
        "mayor = max(numeros)\n",
        "print(\"El promedio de los\", num, \"números es\", promedio)\n",
        "print(\"El menor número es:\", menor)\n",
        "print(\"El mayor número es:\", mayor)"
      ]
    }
  ]
}